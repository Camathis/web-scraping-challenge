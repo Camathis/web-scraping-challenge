{
 "cells": [
  {
   "cell_type": "code",
   "execution_count": 7,
   "metadata": {},
   "outputs": [],
   "source": [
    "from splinter import Browser\n",
    "from bs4 import BeautifulSoup as bs\n",
    "import time\n",
    "import pandas as pd"
   ]
  },
  {
   "cell_type": "code",
   "execution_count": 11,
   "metadata": {},
   "outputs": [],
   "source": [
    "def init_browser():\n",
    "    executable_path = {'executable_path': 'C:/chromedriver.exe'}\n",
    "    return Browser('chrome', **executable_path, headless=False)"
   ]
  },
  {
   "cell_type": "code",
   "execution_count": 38,
   "metadata": {},
   "outputs": [],
   "source": [
    "def scrape_info():  \n",
    "    browser = init_browser()\n",
    "    url = \"https://mars.nasa.gov/news/\"\n",
    "    browser.visit(url)\n",
    "\n",
    "    time.sleep(1)\n",
    "\n",
    "        # Scrape page into Soup\n",
    "    html = browser.html\n",
    "    soup= bs(html, \"html.parser\")\n",
    "    \n",
    "    article_heading_list = []\n",
    "    \n",
    "    for article_heading in soup.find_all('div',class_=\"content_title\"):\n",
    "        article_heading_list.append(article_heading.find('a').text)\n",
    "        \n",
    "    article_details_list = []\n",
    "\n",
    "    for article_details in soup.find_all('div',class_=\"article_teaser_body\"):\n",
    "            \n",
    "        article_details_list.append(article_details.text)\n",
    "        \n",
    "    news_title = article_heading_list[0]\n",
    "    news_p = article_details_list[0]\n",
    "    relative_image_path = soup.find_all('img')[2][\"src\"]\n",
    "    featured_image_url = url + relative_image_path\n",
    "    \n",
    "    News_dict = {\n",
    "        \"featured_image_url\": featured_image_url,\n",
    "        \"news_title\": news_title,\n",
    "        \"news_p\": news_p\n",
    "    }\n",
    "\n",
    "    browser.quit()\n",
    "\n",
    "    return News_dict"
   ]
  },
  {
   "cell_type": "code",
   "execution_count": null,
   "metadata": {},
   "outputs": [],
   "source": []
  }
 ],
 "metadata": {
  "kernelspec": {
   "display_name": "Python 3",
   "language": "python",
   "name": "python3"
  },
  "language_info": {
   "codemirror_mode": {
    "name": "ipython",
    "version": 3
   },
   "file_extension": ".py",
   "mimetype": "text/x-python",
   "name": "python",
   "nbconvert_exporter": "python",
   "pygments_lexer": "ipython3",
   "version": "3.7.3"
  }
 },
 "nbformat": 4,
 "nbformat_minor": 2
}
